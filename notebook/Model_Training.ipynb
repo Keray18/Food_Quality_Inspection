{
 "cells": [
  {
   "cell_type": "code",
   "execution_count": 5,
   "id": "1b1533ac-f6c7-4866-9a54-775482c8214b",
   "metadata": {},
   "outputs": [],
   "source": [
    "import tensorflow as tf"
   ]
  },
  {
   "cell_type": "code",
   "execution_count": 2,
   "id": "680f4188-7b41-4e33-a828-4f43f3981be5",
   "metadata": {},
   "outputs": [
    {
     "name": "stdout",
     "output_type": "stream",
     "text": [
      "[PhysicalDevice(name='/physical_device:GPU:0', device_type='GPU')]\n"
     ]
    }
   ],
   "source": [
    "print(tf.config.list_physical_devices('GPU'))"
   ]
  },
  {
   "cell_type": "code",
   "execution_count": 3,
   "id": "6cf3fb7c-031c-4417-acc7-37d47c85f6c1",
   "metadata": {},
   "outputs": [
    {
     "name": "stdout",
     "output_type": "stream",
     "text": [
      "True\n"
     ]
    }
   ],
   "source": [
    "print(tf.test.is_built_with_cuda())"
   ]
  },
  {
   "cell_type": "code",
   "execution_count": 1,
   "id": "be11d39b",
   "metadata": {},
   "outputs": [],
   "source": [
    "import os\n",
    "import pathlib\n",
    "import random\n",
    "import numpy as np\n",
    "import pandas as pd\n",
    "import matplotlib.pyplot as plt\n",
    "import matplotlib.pyplot as plt\n",
    "import matplotlib.image as mpimg\n",
    "import seaborn as sns\n",
    "\n",
    "from tensorflow.keras.preprocessing.image import ImageDataGenerator\n",
    "from tensorflow.keras import Sequential, layers, models\n",
    "from tensorflow.keras.callbacks import EarlyStopping\n",
    "from tensorflow.keras.preprocessing import image"
   ]
  },
  {
   "cell_type": "code",
   "execution_count": 7,
   "id": "f9856184",
   "metadata": {},
   "outputs": [],
   "source": [
    "train_data_path = \"../data/Train\""
   ]
  },
  {
   "cell_type": "code",
   "execution_count": 3,
   "id": "81e10613",
   "metadata": {},
   "outputs": [],
   "source": [
    "BATCH_SIZE = 32\n",
    "IMAGE_SIZE = 256\n",
    "EPOCHS=50\n",
    "INPUT_SHAPE=(BATCH_SIZE,IMAGE_SIZE,IMAGE_SIZE,3)"
   ]
  },
  {
   "cell_type": "code",
   "execution_count": 8,
   "id": "01b14f39",
   "metadata": {},
   "outputs": [
    {
     "name": "stdout",
     "output_type": "stream",
     "text": [
      "Found 23619 files belonging to 18 classes.\n"
     ]
    }
   ],
   "source": [
    "dataset = tf.keras.preprocessing.image_dataset_from_directory(\n",
    "    train_data_path,\n",
    "    seed=42,\n",
    "    shuffle=True,\n",
    "    image_size=(IMAGE_SIZE,IMAGE_SIZE),\n",
    "    batch_size=BATCH_SIZE\n",
    ")"
   ]
  },
  {
   "cell_type": "code",
   "execution_count": 9,
   "id": "8588f2e3",
   "metadata": {},
   "outputs": [
    {
     "data": {
      "text/plain": [
       "['freshapples',\n",
       " 'freshbanana',\n",
       " 'freshbittergroud',\n",
       " 'freshcapsicum',\n",
       " 'freshcucumber',\n",
       " 'freshokra',\n",
       " 'freshoranges',\n",
       " 'freshpotato',\n",
       " 'freshtomato',\n",
       " 'rottenapples',\n",
       " 'rottenbanana',\n",
       " 'rottenbittergroud',\n",
       " 'rottencapsicum',\n",
       " 'rottencucumber',\n",
       " 'rottenokra',\n",
       " 'rottenoranges',\n",
       " 'rottenpotato',\n",
       " 'rottentomato']"
      ]
     },
     "execution_count": 9,
     "metadata": {},
     "output_type": "execute_result"
    }
   ],
   "source": [
    "class_names = dataset.class_names\n",
    "class_names"
   ]
  },
  {
   "cell_type": "code",
   "execution_count": 10,
   "id": "6f9531d4",
   "metadata": {},
   "outputs": [],
   "source": [
    "import pickle \n",
    "\n",
    "with open(\"class_name.pkl\", \"wb\") as f:\n",
    "    pickle.dump(class_names, f)"
   ]
  },
  {
   "cell_type": "code",
   "execution_count": 9,
   "id": "bcaa60b9",
   "metadata": {},
   "outputs": [
    {
     "data": {
      "text/plain": [
       "(655, 84)"
      ]
     },
     "execution_count": 9,
     "metadata": {},
     "output_type": "execute_result"
    }
   ],
   "source": [
    "train_ds = dataset.take(655)\n",
    "val_ds = dataset.skip(655)\n",
    "\n",
    "len(train_ds), len(val_ds)"
   ]
  },
  {
   "cell_type": "code",
   "execution_count": 10,
   "id": "906cbf6a",
   "metadata": {},
   "outputs": [],
   "source": [
    "layer1 = tf.keras.Sequential([\n",
    "  layers.experimental.preprocessing.Resizing(IMAGE_SIZE, IMAGE_SIZE),\n",
    "  layers.experimental.preprocessing.Rescaling(1./255),\n",
    "])\n",
    "\n",
    "data_augmentation = tf.keras.Sequential([\n",
    "  layers.experimental.preprocessing.RandomFlip(\"horizontal_and_vertical\"),\n",
    "  layers.experimental.preprocessing.RandomRotation(0.2),\n",
    "])"
   ]
  },
  {
   "cell_type": "code",
   "execution_count": 11,
   "id": "0a82fb4e",
   "metadata": {},
   "outputs": [],
   "source": [
    "model = models.Sequential([\n",
    "    layer1,\n",
    "    data_augmentation,\n",
    "    layers.Conv2D(32, kernel_size = (3,3), activation='relu', input_shape=INPUT_SHAPE),\n",
    "    layers.MaxPooling2D((2, 2)),\n",
    "    layers.Conv2D(64,  kernel_size = (3,3), activation='relu'),\n",
    "    layers.MaxPooling2D((2, 2)),\n",
    "    layers.Conv2D(64,  kernel_size = (3,3), activation='relu'),\n",
    "    layers.MaxPooling2D((2, 2)),\n",
    "    layers.Conv2D(64, (3, 3), activation='relu'),\n",
    "    layers.MaxPooling2D((2, 2)),\n",
    "    layers.Conv2D(64, (3, 3), activation='relu'),\n",
    "    layers.MaxPooling2D((2, 2)),\n",
    "    layers.Conv2D(64, (3, 3), activation='relu'),\n",
    "    layers.MaxPooling2D((2, 2)),\n",
    "    layers.Flatten(),\n",
    "    layers.Dense(64, activation='relu'),\n",
    "    layers.Dropout(0.5),\n",
    "    layers.Dense(len(class_names), activation='softmax'),\n",
    "])\n",
    "\n",
    "model.build(input_shape=INPUT_SHAPE)"
   ]
  },
  {
   "cell_type": "code",
   "execution_count": 12,
   "id": "e39e0c0e",
   "metadata": {},
   "outputs": [
    {
     "name": "stdout",
     "output_type": "stream",
     "text": [
      "Model: \"sequential_2\"\n",
      "_________________________________________________________________\n",
      "Layer (type)                 Output Shape              Param #   \n",
      "=================================================================\n",
      "sequential (Sequential)      (32, 256, 256, 3)         0         \n",
      "_________________________________________________________________\n",
      "sequential_1 (Sequential)    (32, 256, 256, 3)         0         \n",
      "_________________________________________________________________\n",
      "conv2d (Conv2D)              (32, 254, 254, 32)        896       \n",
      "_________________________________________________________________\n",
      "max_pooling2d (MaxPooling2D) (32, 127, 127, 32)        0         \n",
      "_________________________________________________________________\n",
      "conv2d_1 (Conv2D)            (32, 125, 125, 64)        18496     \n",
      "_________________________________________________________________\n",
      "max_pooling2d_1 (MaxPooling2 (32, 62, 62, 64)          0         \n",
      "_________________________________________________________________\n",
      "conv2d_2 (Conv2D)            (32, 60, 60, 64)          36928     \n",
      "_________________________________________________________________\n",
      "max_pooling2d_2 (MaxPooling2 (32, 30, 30, 64)          0         \n",
      "_________________________________________________________________\n",
      "conv2d_3 (Conv2D)            (32, 28, 28, 64)          36928     \n",
      "_________________________________________________________________\n",
      "max_pooling2d_3 (MaxPooling2 (32, 14, 14, 64)          0         \n",
      "_________________________________________________________________\n",
      "conv2d_4 (Conv2D)            (32, 12, 12, 64)          36928     \n",
      "_________________________________________________________________\n",
      "max_pooling2d_4 (MaxPooling2 (32, 6, 6, 64)            0         \n",
      "_________________________________________________________________\n",
      "conv2d_5 (Conv2D)            (32, 4, 4, 64)            36928     \n",
      "_________________________________________________________________\n",
      "max_pooling2d_5 (MaxPooling2 (32, 2, 2, 64)            0         \n",
      "_________________________________________________________________\n",
      "flatten (Flatten)            (32, 256)                 0         \n",
      "_________________________________________________________________\n",
      "dense (Dense)                (32, 64)                  16448     \n",
      "_________________________________________________________________\n",
      "dropout (Dropout)            (32, 64)                  0         \n",
      "_________________________________________________________________\n",
      "dense_1 (Dense)              (32, 18)                  1170      \n",
      "=================================================================\n",
      "Total params: 184,722\n",
      "Trainable params: 184,722\n",
      "Non-trainable params: 0\n",
      "_________________________________________________________________\n"
     ]
    }
   ],
   "source": [
    "model.summary()"
   ]
  },
  {
   "cell_type": "code",
   "execution_count": 13,
   "id": "e154843d",
   "metadata": {},
   "outputs": [],
   "source": [
    "model.compile(\n",
    "    optimizer='adam',\n",
    "    loss=tf.keras.losses.SparseCategoricalCrossentropy(from_logits=False),\n",
    "    metrics=['accuracy']\n",
    ")"
   ]
  },
  {
   "cell_type": "code",
   "execution_count": 14,
   "id": "52e2aec3",
   "metadata": {},
   "outputs": [],
   "source": [
    "early_stopping = EarlyStopping(monitor='val_accuracy',\n",
    "                               patience=3,\n",
    "                               restore_best_weights=True)"
   ]
  },
  {
   "cell_type": "code",
   "execution_count": 15,
   "id": "13c569db",
   "metadata": {},
   "outputs": [
    {
     "name": "stdout",
     "output_type": "stream",
     "text": [
      "Epoch 1/50\n",
      "655/655 [==============================] - 274s 398ms/step - loss: 1.8580 - accuracy: 0.3769 - val_loss: 0.9809 - val_accuracy: 0.6743\n",
      "Epoch 2/50\n",
      "655/655 [==============================] - 126s 191ms/step - loss: 0.9765 - accuracy: 0.6649 - val_loss: 0.6277 - val_accuracy: 0.7649\n",
      "Epoch 3/50\n",
      "655/655 [==============================] - 126s 192ms/step - loss: 0.7201 - accuracy: 0.7427 - val_loss: 0.5419 - val_accuracy: 0.7969\n",
      "Epoch 4/50\n",
      "655/655 [==============================] - 126s 191ms/step - loss: 0.6200 - accuracy: 0.7790 - val_loss: 0.4736 - val_accuracy: 0.8116\n",
      "Epoch 5/50\n",
      "655/655 [==============================] - 126s 191ms/step - loss: 0.5523 - accuracy: 0.7972 - val_loss: 0.5020 - val_accuracy: 0.8199\n",
      "Epoch 6/50\n",
      "655/655 [==============================] - 126s 192ms/step - loss: 0.5162 - accuracy: 0.8122 - val_loss: 0.4721 - val_accuracy: 0.8259\n",
      "Epoch 7/50\n",
      "655/655 [==============================] - 121s 185ms/step - loss: 0.4857 - accuracy: 0.8216 - val_loss: 0.4291 - val_accuracy: 0.8341\n",
      "Epoch 8/50\n",
      "655/655 [==============================] - 125s 191ms/step - loss: 0.4467 - accuracy: 0.8349 - val_loss: 0.3459 - val_accuracy: 0.8545\n",
      "Epoch 9/50\n",
      "655/655 [==============================] - 124s 190ms/step - loss: 0.4102 - accuracy: 0.8464 - val_loss: 0.3263 - val_accuracy: 0.8714\n",
      "Epoch 10/50\n",
      "655/655 [==============================] - 118s 180ms/step - loss: 0.3965 - accuracy: 0.8510 - val_loss: 0.3456 - val_accuracy: 0.8571\n",
      "Epoch 11/50\n",
      "655/655 [==============================] - 126s 193ms/step - loss: 0.3834 - accuracy: 0.8562 - val_loss: 0.3787 - val_accuracy: 0.8420\n",
      "Epoch 12/50\n",
      "655/655 [==============================] - 125s 191ms/step - loss: 0.3663 - accuracy: 0.8619 - val_loss: 0.3152 - val_accuracy: 0.8759\n",
      "Epoch 13/50\n",
      "655/655 [==============================] - 126s 192ms/step - loss: 0.3591 - accuracy: 0.8664 - val_loss: 0.3180 - val_accuracy: 0.8706\n",
      "Epoch 14/50\n",
      "655/655 [==============================] - 123s 187ms/step - loss: 0.3426 - accuracy: 0.8704 - val_loss: 0.2979 - val_accuracy: 0.8849\n",
      "Epoch 15/50\n",
      "655/655 [==============================] - 118s 179ms/step - loss: 0.3461 - accuracy: 0.8690 - val_loss: 0.3091 - val_accuracy: 0.8778\n",
      "Epoch 16/50\n",
      "655/655 [==============================] - 119s 181ms/step - loss: 0.3309 - accuracy: 0.8753 - val_loss: 0.2811 - val_accuracy: 0.8891\n",
      "Epoch 17/50\n",
      "655/655 [==============================] - 119s 181ms/step - loss: 0.3087 - accuracy: 0.8829 - val_loss: 0.2630 - val_accuracy: 0.8970\n",
      "Epoch 18/50\n",
      "655/655 [==============================] - 119s 181ms/step - loss: 0.3233 - accuracy: 0.8798 - val_loss: 0.2304 - val_accuracy: 0.8973\n",
      "Epoch 19/50\n",
      "655/655 [==============================] - 123s 187ms/step - loss: 0.2918 - accuracy: 0.8886 - val_loss: 0.2921 - val_accuracy: 0.8834\n",
      "Epoch 20/50\n",
      "655/655 [==============================] - 122s 185ms/step - loss: 0.3048 - accuracy: 0.8877 - val_loss: 0.3298 - val_accuracy: 0.8733\n",
      "Epoch 21/50\n",
      "655/655 [==============================] - 119s 181ms/step - loss: 0.2843 - accuracy: 0.8922 - val_loss: 0.2678 - val_accuracy: 0.8913\n"
     ]
    }
   ],
   "source": [
    "history = model.fit(\n",
    "    train_ds,\n",
    "    epochs=EPOCHS,\n",
    "    batch_size=BATCH_SIZE,\n",
    "    validation_data=val_ds,\n",
    "    callbacks=[early_stopping])"
   ]
  },
  {
   "cell_type": "code",
   "execution_count": 16,
   "id": "7e6316c0",
   "metadata": {},
   "outputs": [],
   "source": [
    "def loss_curve(history):\n",
    "\n",
    "  loss = history.history['loss']\n",
    "  val_loss = history.history['val_loss']\n",
    "\n",
    "  accuracy = history.history['accuracy']\n",
    "  val_accuracy = history.history['val_accuracy']\n",
    "\n",
    "  epochs = range(len(history.history['loss']))\n",
    "\n",
    "  # Plot loss\n",
    "  plt.plot(epochs, loss, label=\"Training_Loss\")\n",
    "  plt.plot(epochs, val_loss, label=\"Val_Loss\")\n",
    "  plt.title(\"Loss\")\n",
    "  plt.xlabel(\"Epochs\")\n",
    "  plt.legend()\n",
    "\n",
    "  # Plot accuracy\n",
    "  plt.figure()\n",
    "  plt.plot(epochs, accuracy, label=\"Training_Accuracy1\")\n",
    "  plt.plot(epochs, val_accuracy, label=\"Val_Accuracy\")\n",
    "  plt.title(\"Loss\")\n",
    "  plt.xlabel(\"Epochs\")\n",
    "  plt.legend()"
   ]
  },
  {
   "cell_type": "code",
   "execution_count": 17,
   "id": "d7a7397c",
   "metadata": {},
   "outputs": [
    {
     "data": {
      "image/png": "[encoded data removed]",
      "text/plain": [
       "<Figure size 432x288 with 1 Axes>"
      ]
     },
     "metadata": {
      "needs_background": "light"
     },
     "output_type": "display_data"
    },
    {
     "data": {
      "image/png": "[encoded data removed]",
      "text/plain": [
       "<Figure size 432x288 with 1 Axes>"
      ]
     },
     "metadata": {
      "needs_background": "light"
     },
     "output_type": "display_data"
    }
   ],
   "source": [
    "loss_curve(history)"
   ]
  },
  {
   "cell_type": "code",
   "execution_count": 32,
   "id": "b447129f",
   "metadata": {},
   "outputs": [],
   "source": [
    "def write_model_metrics(history):\n",
    "    file_path = 'model_metrics.txt'\n",
    "\n",
    "    if not os.path.exists(file_path):\n",
    "        mode = 'w'  \n",
    "    else:\n",
    "        mode = 'a'  \n",
    "\n",
    "    with open(file_path, mode) as f:\n",
    "        val_loss = history.history['val_loss']\n",
    "        val_acc = history.history['val_accuracy']\n",
    "        for i in range(len(val_loss)):\n",
    "            f.write(f'Epoch {i+1}: Validation Loss = {val_loss[i]}, Validation Accuracy = {val_acc[i]}\\n')\n"
   ]
  },
  {
   "cell_type": "code",
   "execution_count": null,
   "id": "1a3334ca",
   "metadata": {},
   "outputs": [],
   "source": [
    "write_model_metrics(history)"
   ]
  },
  {
   "cell_type": "code",
   "execution_count": 19,
   "id": "706b1128",
   "metadata": {},
   "outputs": [
    {
     "name": "stdout",
     "output_type": "stream",
     "text": [
      "INFO:tensorflow:Assets written to: model/1\\assets\n"
     ]
    }
   ],
   "source": [
    "model_ver=1\n",
    "model.save(f\"model/{model_ver}\")"
   ]
  },
  {
   "cell_type": "markdown",
   "id": "195bc063",
   "metadata": {},
   "source": [
    "# Experiments"
   ]
  },
  {
   "cell_type": "code",
   "execution_count": 21,
   "id": "677e174e",
   "metadata": {},
   "outputs": [],
   "source": [
    "IMAGE_SIZE = 256\n",
    "INPUT_SHAPE = (IMAGE_SIZE, IMAGE_SIZE, 3)  \n",
    "NUM_CLASSES = len(class_names)\n",
    "BATCH_SIZE = 32\n",
    "EPOCHS = 100"
   ]
  },
  {
   "cell_type": "code",
   "execution_count": 22,
   "id": "4322b0f9",
   "metadata": {},
   "outputs": [],
   "source": [
    "new_data_augmentation = tf.keras.Sequential([\n",
    "  layers.experimental.preprocessing.RandomFlip(\"horizontal_and_vertical\"),\n",
    "  layers.experimental.preprocessing.RandomRotation(0.2),\n",
    "    layers.experimental.preprocessing.RandomZoom(0.2),\n",
    "    layers.experimental.preprocessing.RandomContrast(0.2),\n",
    "])"
   ]
  },
  {
   "cell_type": "code",
   "execution_count": 23,
   "id": "b90402f5",
   "metadata": {},
   "outputs": [],
   "source": [
    "model_1 = models.Sequential([\n",
    "    layers.Input(shape=INPUT_SHAPE),\n",
    "    layers.experimental.preprocessing.Resizing(IMAGE_SIZE, IMAGE_SIZE),\n",
    "    layers.experimental.preprocessing.Rescaling(1./255),\n",
    "    new_data_augmentation,\n",
    "    layers.Conv2D(64, kernel_size=(3, 3), activation='relu'),\n",
    "    layers.MaxPooling2D((2, 2)),\n",
    "    layers.Conv2D(128, kernel_size=(3, 3), activation='relu'),\n",
    "    layers.MaxPooling2D((2, 2)),\n",
    "    layers.Conv2D(256, kernel_size=(3, 3), activation='relu'),\n",
    "    layers.MaxPooling2D((2, 2)),\n",
    "    layers.Conv2D(512, kernel_size=(3, 3), activation='relu'),\n",
    "    layers.MaxPooling2D((2, 2)),\n",
    "    layers.Conv2D(512, kernel_size=(3, 3), activation='relu'),\n",
    "    layers.MaxPooling2D((2, 2)),\n",
    "    layers.Flatten(),\n",
    "    layers.Dense(1024, activation='relu'),\n",
    "    layers.Dropout(0.5),\n",
    "    layers.Dense(512, activation='relu'),\n",
    "    layers.Dropout(0.5),\n",
    "    layers.Dense(NUM_CLASSES, activation='softmax'),\n",
    "])\n",
    "\n",
    "model_1.build(input_shape=INPUT_SHAPE)"
   ]
  },
  {
   "cell_type": "code",
   "execution_count": 24,
   "id": "a64b14d8",
   "metadata": {},
   "outputs": [
    {
     "name": "stdout",
     "output_type": "stream",
     "text": [
      "Model: \"sequential_4\"\n",
      "_________________________________________________________________\n",
      "Layer (type)                 Output Shape              Param #   \n",
      "=================================================================\n",
      "resizing_1 (Resizing)        (None, 256, 256, 3)       0         \n",
      "_________________________________________________________________\n",
      "rescaling_1 (Rescaling)      (None, 256, 256, 3)       0         \n",
      "_________________________________________________________________\n",
      "sequential_3 (Sequential)    (None, 256, 256, 3)       0         \n",
      "_________________________________________________________________\n",
      "conv2d_6 (Conv2D)            (None, 254, 254, 64)      1792      \n",
      "_________________________________________________________________\n",
      "max_pooling2d_6 (MaxPooling2 (None, 127, 127, 64)      0         \n",
      "_________________________________________________________________\n",
      "conv2d_7 (Conv2D)            (None, 125, 125, 128)     73856     \n",
      "_________________________________________________________________\n",
      "max_pooling2d_7 (MaxPooling2 (None, 62, 62, 128)       0         \n",
      "_________________________________________________________________\n",
      "conv2d_8 (Conv2D)            (None, 60, 60, 256)       295168    \n",
      "_________________________________________________________________\n",
      "max_pooling2d_8 (MaxPooling2 (None, 30, 30, 256)       0         \n",
      "_________________________________________________________________\n",
      "conv2d_9 (Conv2D)            (None, 28, 28, 512)       1180160   \n",
      "_________________________________________________________________\n",
      "max_pooling2d_9 (MaxPooling2 (None, 14, 14, 512)       0         \n",
      "_________________________________________________________________\n",
      "conv2d_10 (Conv2D)           (None, 12, 12, 512)       2359808   \n",
      "_________________________________________________________________\n",
      "max_pooling2d_10 (MaxPooling (None, 6, 6, 512)         0         \n",
      "_________________________________________________________________\n",
      "flatten_1 (Flatten)          (None, 18432)             0         \n",
      "_________________________________________________________________\n",
      "dense_2 (Dense)              (None, 1024)              18875392  \n",
      "_________________________________________________________________\n",
      "dropout_1 (Dropout)          (None, 1024)              0         \n",
      "_________________________________________________________________\n",
      "dense_3 (Dense)              (None, 512)               524800    \n",
      "_________________________________________________________________\n",
      "dropout_2 (Dropout)          (None, 512)               0         \n",
      "_________________________________________________________________\n",
      "dense_4 (Dense)              (None, 18)                9234      \n",
      "=================================================================\n",
      "Total params: 23,320,210\n",
      "Trainable params: 23,320,210\n",
      "Non-trainable params: 0\n",
      "_________________________________________________________________\n"
     ]
    }
   ],
   "source": [
    "model_1.summary()"
   ]
  },
  {
   "cell_type": "code",
   "execution_count": 25,
   "id": "20d36d47",
   "metadata": {},
   "outputs": [],
   "source": [
    "model_1.compile(\n",
    "    optimizer=tf.keras.optimizers.Adam(),\n",
    "    loss=tf.keras.losses.SparseCategoricalCrossentropy(from_logits=False),\n",
    "    metrics=['accuracy']\n",
    ")"
   ]
  },
  {
   "cell_type": "code",
   "execution_count": 26,
   "id": "a68ad686",
   "metadata": {},
   "outputs": [],
   "source": [
    "early_stopping = tf.keras.callbacks.EarlyStopping(patience=10, restore_best_weights=True),\n",
    "reduce_lr = tf.keras.callbacks.ReduceLROnPlateau(factor=0.1, patience=5, min_lr=0.00001)"
   ]
  },
  {
   "cell_type": "code",
   "execution_count": 27,
   "id": "dbb9cdff",
   "metadata": {},
   "outputs": [
    {
     "name": "stdout",
     "output_type": "stream",
     "text": [
      "Epoch 1/100\n",
      "655/655 [==============================] - 272s 409ms/step - loss: 1.6703 - accuracy: 0.4190 - val_loss: 0.8574 - val_accuracy: 0.6984\n",
      "Epoch 2/100\n",
      "655/655 [==============================] - 272s 416ms/step - loss: 0.8539 - accuracy: 0.7000 - val_loss: 0.5933 - val_accuracy: 0.7619\n",
      "Epoch 3/100\n",
      "655/655 [==============================] - 273s 416ms/step - loss: 0.6564 - accuracy: 0.7616 - val_loss: 0.5217 - val_accuracy: 0.8022\n",
      "Epoch 4/100\n",
      "655/655 [==============================] - 273s 417ms/step - loss: 0.5365 - accuracy: 0.8049 - val_loss: 0.3711 - val_accuracy: 0.8454\n",
      "Epoch 5/100\n",
      "655/655 [==============================] - 273s 416ms/step - loss: 0.4765 - accuracy: 0.8242 - val_loss: 0.3537 - val_accuracy: 0.8597\n",
      "Epoch 6/100\n",
      "655/655 [==============================] - 272s 415ms/step - loss: 0.4297 - accuracy: 0.8381 - val_loss: 0.3133 - val_accuracy: 0.8684\n",
      "Epoch 7/100\n",
      "655/655 [==============================] - 273s 416ms/step - loss: 0.4070 - accuracy: 0.8475 - val_loss: 0.3967 - val_accuracy: 0.8402\n",
      "Epoch 8/100\n",
      "655/655 [==============================] - 274s 417ms/step - loss: 0.3828 - accuracy: 0.8581 - val_loss: 0.2558 - val_accuracy: 0.8977\n",
      "Epoch 9/100\n",
      "655/655 [==============================] - 271s 414ms/step - loss: 0.3662 - accuracy: 0.8644 - val_loss: 0.2605 - val_accuracy: 0.8936\n",
      "Epoch 10/100\n",
      "655/655 [==============================] - 272s 414ms/step - loss: 0.3484 - accuracy: 0.8722 - val_loss: 0.2571 - val_accuracy: 0.9064\n",
      "Epoch 11/100\n",
      "655/655 [==============================] - 272s 414ms/step - loss: 0.3321 - accuracy: 0.8757 - val_loss: 0.2391 - val_accuracy: 0.8898\n",
      "Epoch 12/100\n",
      "655/655 [==============================] - 272s 415ms/step - loss: 0.3107 - accuracy: 0.8838 - val_loss: 0.2251 - val_accuracy: 0.9022\n",
      "Epoch 13/100\n",
      "655/655 [==============================] - 272s 415ms/step - loss: 0.3086 - accuracy: 0.8888 - val_loss: 0.2075 - val_accuracy: 0.9158\n",
      "Epoch 14/100\n",
      "655/655 [==============================] - 272s 415ms/step - loss: 0.2945 - accuracy: 0.8932 - val_loss: 0.2066 - val_accuracy: 0.9143\n",
      "Epoch 15/100\n",
      "655/655 [==============================] - 272s 415ms/step - loss: 0.2802 - accuracy: 0.8987 - val_loss: 0.1908 - val_accuracy: 0.9214\n",
      "Epoch 16/100\n",
      "655/655 [==============================] - 272s 416ms/step - loss: 0.2912 - accuracy: 0.8974 - val_loss: 0.2421 - val_accuracy: 0.9049\n",
      "Epoch 17/100\n",
      "655/655 [==============================] - 273s 416ms/step - loss: 0.2736 - accuracy: 0.9051 - val_loss: 0.1936 - val_accuracy: 0.9252\n",
      "Epoch 18/100\n",
      "655/655 [==============================] - 273s 416ms/step - loss: 0.2809 - accuracy: 0.9022 - val_loss: 0.2497 - val_accuracy: 0.9018\n",
      "Epoch 19/100\n",
      "655/655 [==============================] - 272s 415ms/step - loss: 0.2703 - accuracy: 0.9076 - val_loss: 0.2233 - val_accuracy: 0.9124\n",
      "Epoch 20/100\n",
      "655/655 [==============================] - 272s 415ms/step - loss: 0.2461 - accuracy: 0.9156 - val_loss: 0.1701 - val_accuracy: 0.9331\n",
      "Epoch 21/100\n",
      "655/655 [==============================] - 272s 415ms/step - loss: 0.2353 - accuracy: 0.9155 - val_loss: 0.1834 - val_accuracy: 0.9225\n",
      "Epoch 22/100\n",
      "655/655 [==============================] - 272s 414ms/step - loss: 0.2429 - accuracy: 0.9134 - val_loss: 0.2083 - val_accuracy: 0.9218\n",
      "Epoch 23/100\n",
      "655/655 [==============================] - 272s 414ms/step - loss: 0.2446 - accuracy: 0.9174 - val_loss: 0.3822 - val_accuracy: 0.8563\n",
      "Epoch 24/100\n",
      "655/655 [==============================] - 272s 414ms/step - loss: 0.2597 - accuracy: 0.9096 - val_loss: 0.1774 - val_accuracy: 0.9327\n",
      "Epoch 25/100\n",
      "655/655 [==============================] - 271s 414ms/step - loss: 0.2259 - accuracy: 0.9212 - val_loss: 0.1702 - val_accuracy: 0.9342\n",
      "Epoch 26/100\n",
      "655/655 [==============================] - 272s 414ms/step - loss: 0.1545 - accuracy: 0.9451 - val_loss: 0.1651 - val_accuracy: 0.9379\n",
      "Epoch 27/100\n",
      "655/655 [==============================] - 271s 414ms/step - loss: 0.1341 - accuracy: 0.9494 - val_loss: 0.1451 - val_accuracy: 0.9462\n",
      "Epoch 28/100\n",
      "655/655 [==============================] - 272s 414ms/step - loss: 0.1298 - accuracy: 0.9532 - val_loss: 0.1519 - val_accuracy: 0.9436\n",
      "Epoch 29/100\n",
      "655/655 [==============================] - 271s 414ms/step - loss: 0.1220 - accuracy: 0.9561 - val_loss: 0.1459 - val_accuracy: 0.9451\n",
      "Epoch 30/100\n",
      "655/655 [==============================] - 271s 413ms/step - loss: 0.1220 - accuracy: 0.9550 - val_loss: 0.1364 - val_accuracy: 0.9489\n",
      "Epoch 31/100\n",
      "655/655 [==============================] - 272s 414ms/step - loss: 0.1113 - accuracy: 0.9589 - val_loss: 0.1457 - val_accuracy: 0.9473\n",
      "Epoch 32/100\n",
      "655/655 [==============================] - 271s 414ms/step - loss: 0.1110 - accuracy: 0.9580 - val_loss: 0.1618 - val_accuracy: 0.9477\n",
      "Epoch 33/100\n",
      "655/655 [==============================] - 271s 414ms/step - loss: 0.1087 - accuracy: 0.9612 - val_loss: 0.1389 - val_accuracy: 0.9489\n",
      "Epoch 34/100\n",
      "655/655 [==============================] - 272s 414ms/step - loss: 0.1045 - accuracy: 0.9615 - val_loss: 0.1301 - val_accuracy: 0.9526\n",
      "Epoch 35/100\n",
      "655/655 [==============================] - 272s 414ms/step - loss: 0.1042 - accuracy: 0.9618 - val_loss: 0.1178 - val_accuracy: 0.9564\n",
      "Epoch 36/100\n",
      "655/655 [==============================] - 272s 415ms/step - loss: 0.0984 - accuracy: 0.9643 - val_loss: 0.1029 - val_accuracy: 0.9639\n",
      "Epoch 37/100\n",
      "655/655 [==============================] - 271s 414ms/step - loss: 0.1003 - accuracy: 0.9636 - val_loss: 0.1111 - val_accuracy: 0.9590\n",
      "Epoch 38/100\n",
      "655/655 [==============================] - 271s 414ms/step - loss: 0.0922 - accuracy: 0.9658 - val_loss: 0.1181 - val_accuracy: 0.9560\n",
      "Epoch 39/100\n",
      "655/655 [==============================] - 271s 414ms/step - loss: 0.0948 - accuracy: 0.9651 - val_loss: 0.1382 - val_accuracy: 0.9507\n",
      "Epoch 40/100\n",
      "655/655 [==============================] - 271s 413ms/step - loss: 0.0931 - accuracy: 0.9657 - val_loss: 0.1163 - val_accuracy: 0.9568\n",
      "Epoch 41/100\n",
      "655/655 [==============================] - 271s 414ms/step - loss: 0.0936 - accuracy: 0.9669 - val_loss: 0.1057 - val_accuracy: 0.9601\n",
      "Epoch 42/100\n",
      "655/655 [==============================] - 272s 416ms/step - loss: 0.0889 - accuracy: 0.9682 - val_loss: 0.1170 - val_accuracy: 0.9564\n",
      "Epoch 43/100\n",
      "655/655 [==============================] - 271s 413ms/step - loss: 0.0814 - accuracy: 0.9713 - val_loss: 0.1099 - val_accuracy: 0.9564\n",
      "Epoch 44/100\n",
      "655/655 [==============================] - 271s 413ms/step - loss: 0.0836 - accuracy: 0.9698 - val_loss: 0.1100 - val_accuracy: 0.9560\n",
      "Epoch 45/100\n",
      "655/655 [==============================] - 271s 413ms/step - loss: 0.0833 - accuracy: 0.9702 - val_loss: 0.1129 - val_accuracy: 0.9560\n",
      "Epoch 46/100\n",
      "655/655 [==============================] - 272s 414ms/step - loss: 0.0825 - accuracy: 0.9699 - val_loss: 0.1132 - val_accuracy: 0.9560\n"
     ]
    }
   ],
   "source": [
    "history_1 = model_1.fit(\n",
    "    train_ds,\n",
    "    epochs=EPOCHS,\n",
    "    batch_size=BATCH_SIZE,\n",
    "    validation_data=val_ds,\n",
    "    callbacks=[early_stopping, reduce_lr]\n",
    ")"
   ]
  },
  {
   "cell_type": "code",
   "execution_count": 28,
   "id": "b5a1e05d",
   "metadata": {},
   "outputs": [
    {
     "data": {
      "image/png": "[encoded data removed]",
      "text/plain": [
       "<Figure size 432x288 with 1 Axes>"
      ]
     },
     "metadata": {
      "needs_background": "light"
     },
     "output_type": "display_data"
    },
    {
     "data": {
      "image/png": "[encoded data removed]",
      "text/plain": [
       "<Figure size 432x288 with 1 Axes>"
      ]
     },
     "metadata": {
      "needs_background": "light"
     },
     "output_type": "display_data"
    }
   ],
   "source": [
    "loss_curve(history_1)"
   ]
  },
  {
   "cell_type": "code",
   "execution_count": 33,
   "id": "9f7df01d",
   "metadata": {},
   "outputs": [],
   "source": [
    "write_model_metrics(history_1)"
   ]
  },
  {
   "cell_type": "code",
   "execution_count": 34,
   "id": "285d411b",
   "metadata": {},
   "outputs": [
    {
     "name": "stdout",
     "output_type": "stream",
     "text": [
      "INFO:tensorflow:Assets written to: model/2\\assets\n"
     ]
    }
   ],
   "source": [
    "model_ver=2\n",
    "model_1.save(f\"model/{model_ver}\")"
   ]
  },
  {
   "cell_type": "code",
   "execution_count": 59,
   "id": "ab410740",
   "metadata": {},
   "outputs": [],
   "source": [
    "test_data_path = \"data/Test\""
   ]
  },
  {
   "cell_type": "code",
   "execution_count": 77,
   "id": "8b141f1f",
   "metadata": {},
   "outputs": [
    {
     "data": {
      "image/png": "[encoded data removed]",
      "text/plain": [
       "<Figure size 864x432 with 1 Axes>"
      ]
     },
     "metadata": {
      "needs_background": "light"
     },
     "output_type": "display_data"
    },
    {
     "data": {
      "image/png": "[encoded data removed]",
      "text/plain": [
       "<Figure size 432x288 with 1 Axes>"
      ]
     },
     "metadata": {
      "needs_background": "light"
     },
     "output_type": "display_data"
    },
    {
     "data": {
      "image/png": "[encoded data removed]",
      "text/plain": [
       "<Figure size 432x288 with 1 Axes>"
      ]
     },
     "metadata": {
      "needs_background": "light"
     },
     "output_type": "display_data"
    },
    {
     "data": {
      "image/png": "[encoded data removed]",
      "text/plain": [
       "<Figure size 432x288 with 1 Axes>"
      ]
     },
     "metadata": {
      "needs_background": "light"
     },
     "output_type": "display_data"
    },
    {
     "data": {
      "image/png": "[encoded data removed]",
      "text/plain": [
       "<Figure size 432x288 with 1 Axes>"
      ]
     },
     "metadata": {
      "needs_background": "light"
     },
     "output_type": "display_data"
    },
    {
     "data": {
      "image/png": "[encoded data removed]",
      "text/plain": [
       "<Figure size 432x288 with 1 Axes>"
      ]
     },
     "metadata": {
      "needs_background": "light"
     },
     "output_type": "display_data"
    }
   ],
   "source": [
    "# Visualizing the test images\n",
    "plt.figure(figsize=(12,6))\n",
    "img_files = [file for file in os.listdir(test_data) if file.endswith(('.png', '.jpg', '.jpeg'))]\n",
    "\n",
    "for img in img_files:\n",
    "  img_path = os.path.join(test_data, img)\n",
    "\n",
    "  plt.subplot(1,5,1)\n",
    "  img = mpimg.imread(img_path)\n",
    "  plt.imshow(img)\n",
    "\n",
    "  plt.tight_layout()\n",
    "  plt.show()"
   ]
  },
  {
   "cell_type": "code",
   "execution_count": 56,
   "id": "ad2c3d26",
   "metadata": {},
   "outputs": [
    {
     "data": {
      "text/plain": [
       "['capsicum3_0.jpg_0_389.jpg',\n",
       " 'c_f036.png',\n",
       " 'IMG_20200901_181735.jpg_0_745.jpg',\n",
       " 'o_f002.png',\n",
       " 'p_f002.png',\n",
       " 'p_r003.png']"
      ]
     },
     "execution_count": 56,
     "metadata": {},
     "output_type": "execute_result"
    }
   ],
   "source": [
    "img_files"
   ]
  },
  {
   "cell_type": "code",
   "execution_count": 63,
   "id": "5a02be36",
   "metadata": {},
   "outputs": [],
   "source": [
    "def preprocess_image(image_path, target_size=(256, 256)):\n",
    "    img = image.load_img(image_path, target_size=target_size)\n",
    "    img_array = image.img_to_array(img)\n",
    "    img_array = np.expand_dims(img_array, axis=0)  \n",
    "    return img_array\n",
    "\n",
    "def predict_image(image_path, model):\n",
    "    img_array = preprocess_image(image_path)\n",
    "    predictions = model_1.predict(img_array)\n",
    "    predicted_class_index = np.argmax(predictions[0])\n",
    "    predicted_class = class_names[predicted_class_index]\n",
    "    confidence = predictions[0][predicted_class_index]\n",
    "    return predicted_class, confidence"
   ]
  },
  {
   "cell_type": "code",
   "execution_count": 66,
   "id": "decbd471",
   "metadata": {},
   "outputs": [
    {
     "name": "stdout",
     "output_type": "stream",
     "text": [
      "Predicted Class: rottenpotato\n",
      "Confidence: 0.9592323\n"
     ]
    }
   ],
   "source": [
    "# Example usage:\n",
    "image_path = 'data/Test/p_r003.png'  # Replace 'path_to_your_test_image.jpg' with the actual path to your test image\n",
    "predicted_class, confidence = predict_image(image_path, model)\n",
    "print(\"Predicted Class:\", predicted_class)\n",
    "print(\"Confidence:\", confidence)"
   ]
  },
  {
   "cell_type": "code",
   "execution_count": 75,
   "id": "9b101620",
   "metadata": {},
   "outputs": [],
   "source": [
    "def predict_img(img_path, model, target_size=(256,256), class_names=class_names):\n",
    "    img = image.load_img(img_path, target_size=target_size)\n",
    "    img_array = image.img_to_array(img)\n",
    "    img_array = np.expand_dims(img_array, axis=0)\n",
    "    \n",
    "    predictions = model_1.predict(img_array)\n",
    "    predicted_class_index = np.argmax(predictions[0])\n",
    "    \n",
    "    predicted_class = class_names[predicted_class_index]\n",
    "    confidence = predictions[0][predicted_class_index]\n",
    "    return predicted_class, confidence"
   ]
  },
  {
   "cell_type": "code",
   "execution_count": 76,
   "id": "ea787635",
   "metadata": {},
   "outputs": [
    {
     "name": "stdout",
     "output_type": "stream",
     "text": [
      "Predicted Class: freshcapsicum\n",
      "Confidence: 0.9999918937683105\n",
      "Predicted Class: freshokra\n",
      "Confidence: 0.5413051247596741\n",
      "Predicted Class: rottencapsicum\n",
      "Confidence: 1.0\n",
      "Predicted Class: freshokra\n",
      "Confidence: 0.8670524954795837\n",
      "Predicted Class: freshpotato\n",
      "Confidence: 0.9989540576934814\n",
      "Predicted Class: rottenpotato\n",
      "Confidence: 0.9592322707176208\n"
     ]
    }
   ],
   "source": [
    "for i in enumerate(img_files):\n",
    "    img_path = os.path.join(test_data_path, i[1])\n",
    "    \n",
    "    predicted_class, confidence = predict_img(img_path=img_path, model=model_1)\n",
    "    print(f\"Predicted Class: {predicted_class}\")\n",
    "    print(f\"Confidence: {confidence}\")"
   ]
  },
  {
   "cell_type": "markdown",
   "id": "2b833fed",
   "metadata": {},
   "source": [
    "## Conlusion: The predictions are quite accurate"
   ]
  },
  {
   "cell_type": "code",
   "execution_count": null,
   "id": "73b4ea15",
   "metadata": {},
   "outputs": [],
   "source": []
  }
 ],
 "metadata": {
  "kernelspec": {
   "display_name": "Python 3",
   "language": "python",
   "name": "python3"
  },
  "language_info": {
   "codemirror_mode": {
    "name": "ipython",
    "version": 3
   },
   "file_extension": ".py",
   "mimetype": "text/x-python",
   "name": "python",
   "nbconvert_exporter": "python",
   "pygments_lexer": "ipython3",
   "version": "3.6.13"
  }
 },
 "nbformat": 4,
 "nbformat_minor": 5
}
